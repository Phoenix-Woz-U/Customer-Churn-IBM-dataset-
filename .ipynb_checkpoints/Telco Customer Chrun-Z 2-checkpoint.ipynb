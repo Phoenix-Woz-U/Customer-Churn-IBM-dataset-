{
 "cells": [
  {
   "cell_type": "code",
   "execution_count": 1,
   "id": "11240477",
   "metadata": {},
   "outputs": [
    {
     "ename": "FileNotFoundError",
     "evalue": "[Errno 2] File b'/Users/zoranaheimuli/Desktop/Telco_Cleaned.csv' does not exist: b'/Users/zoranaheimuli/Desktop/Telco_Cleaned.csv'",
     "output_type": "error",
     "traceback": [
      "\u001b[0;31m---------------------------------------------------------------------------\u001b[0m",
      "\u001b[0;31mFileNotFoundError\u001b[0m                         Traceback (most recent call last)",
      "\u001b[0;32m<ipython-input-1-10855f6dfd83>\u001b[0m in \u001b[0;36m<module>\u001b[0;34m\u001b[0m\n\u001b[1;32m      6\u001b[0m \u001b[0mget_ipython\u001b[0m\u001b[0;34m(\u001b[0m\u001b[0;34m)\u001b[0m\u001b[0;34m.\u001b[0m\u001b[0mrun_line_magic\u001b[0m\u001b[0;34m(\u001b[0m\u001b[0;34m'matplotlib'\u001b[0m\u001b[0;34m,\u001b[0m \u001b[0;34m'inline'\u001b[0m\u001b[0;34m)\u001b[0m\u001b[0;34m\u001b[0m\u001b[0;34m\u001b[0m\u001b[0m\n\u001b[1;32m      7\u001b[0m \u001b[0;34m\u001b[0m\u001b[0m\n\u001b[0;32m----> 8\u001b[0;31m \u001b[0mdp\u001b[0m \u001b[0;34m=\u001b[0m \u001b[0mpd\u001b[0m\u001b[0;34m.\u001b[0m\u001b[0mread_csv\u001b[0m\u001b[0;34m(\u001b[0m\u001b[0;34m'/Users/zoranaheimuli/Desktop/Telco_Cleaned.csv'\u001b[0m\u001b[0;34m)\u001b[0m\u001b[0;34m\u001b[0m\u001b[0;34m\u001b[0m\u001b[0m\n\u001b[0m",
      "\u001b[0;32m~/.local/lib/python3.8/site-packages/pandas/io/parsers.py\u001b[0m in \u001b[0;36mparser_f\u001b[0;34m(filepath_or_buffer, sep, delimiter, header, names, index_col, usecols, squeeze, prefix, mangle_dupe_cols, dtype, engine, converters, true_values, false_values, skipinitialspace, skiprows, skipfooter, nrows, na_values, keep_default_na, na_filter, verbose, skip_blank_lines, parse_dates, infer_datetime_format, keep_date_col, date_parser, dayfirst, cache_dates, iterator, chunksize, compression, thousands, decimal, lineterminator, quotechar, quoting, doublequote, escapechar, comment, encoding, dialect, error_bad_lines, warn_bad_lines, delim_whitespace, low_memory, memory_map, float_precision)\u001b[0m\n\u001b[1;32m    683\u001b[0m         )\n\u001b[1;32m    684\u001b[0m \u001b[0;34m\u001b[0m\u001b[0m\n\u001b[0;32m--> 685\u001b[0;31m         \u001b[0;32mreturn\u001b[0m \u001b[0m_read\u001b[0m\u001b[0;34m(\u001b[0m\u001b[0mfilepath_or_buffer\u001b[0m\u001b[0;34m,\u001b[0m \u001b[0mkwds\u001b[0m\u001b[0;34m)\u001b[0m\u001b[0;34m\u001b[0m\u001b[0;34m\u001b[0m\u001b[0m\n\u001b[0m\u001b[1;32m    686\u001b[0m \u001b[0;34m\u001b[0m\u001b[0m\n\u001b[1;32m    687\u001b[0m     \u001b[0mparser_f\u001b[0m\u001b[0;34m.\u001b[0m\u001b[0m__name__\u001b[0m \u001b[0;34m=\u001b[0m \u001b[0mname\u001b[0m\u001b[0;34m\u001b[0m\u001b[0;34m\u001b[0m\u001b[0m\n",
      "\u001b[0;32m~/.local/lib/python3.8/site-packages/pandas/io/parsers.py\u001b[0m in \u001b[0;36m_read\u001b[0;34m(filepath_or_buffer, kwds)\u001b[0m\n\u001b[1;32m    455\u001b[0m \u001b[0;34m\u001b[0m\u001b[0m\n\u001b[1;32m    456\u001b[0m     \u001b[0;31m# Create the parser.\u001b[0m\u001b[0;34m\u001b[0m\u001b[0;34m\u001b[0m\u001b[0;34m\u001b[0m\u001b[0m\n\u001b[0;32m--> 457\u001b[0;31m     \u001b[0mparser\u001b[0m \u001b[0;34m=\u001b[0m \u001b[0mTextFileReader\u001b[0m\u001b[0;34m(\u001b[0m\u001b[0mfp_or_buf\u001b[0m\u001b[0;34m,\u001b[0m \u001b[0;34m**\u001b[0m\u001b[0mkwds\u001b[0m\u001b[0;34m)\u001b[0m\u001b[0;34m\u001b[0m\u001b[0;34m\u001b[0m\u001b[0m\n\u001b[0m\u001b[1;32m    458\u001b[0m \u001b[0;34m\u001b[0m\u001b[0m\n\u001b[1;32m    459\u001b[0m     \u001b[0;32mif\u001b[0m \u001b[0mchunksize\u001b[0m \u001b[0;32mor\u001b[0m \u001b[0miterator\u001b[0m\u001b[0;34m:\u001b[0m\u001b[0;34m\u001b[0m\u001b[0;34m\u001b[0m\u001b[0m\n",
      "\u001b[0;32m~/.local/lib/python3.8/site-packages/pandas/io/parsers.py\u001b[0m in \u001b[0;36m__init__\u001b[0;34m(self, f, engine, **kwds)\u001b[0m\n\u001b[1;32m    893\u001b[0m             \u001b[0mself\u001b[0m\u001b[0;34m.\u001b[0m\u001b[0moptions\u001b[0m\u001b[0;34m[\u001b[0m\u001b[0;34m\"has_index_names\"\u001b[0m\u001b[0;34m]\u001b[0m \u001b[0;34m=\u001b[0m \u001b[0mkwds\u001b[0m\u001b[0;34m[\u001b[0m\u001b[0;34m\"has_index_names\"\u001b[0m\u001b[0;34m]\u001b[0m\u001b[0;34m\u001b[0m\u001b[0;34m\u001b[0m\u001b[0m\n\u001b[1;32m    894\u001b[0m \u001b[0;34m\u001b[0m\u001b[0m\n\u001b[0;32m--> 895\u001b[0;31m         \u001b[0mself\u001b[0m\u001b[0;34m.\u001b[0m\u001b[0m_make_engine\u001b[0m\u001b[0;34m(\u001b[0m\u001b[0mself\u001b[0m\u001b[0;34m.\u001b[0m\u001b[0mengine\u001b[0m\u001b[0;34m)\u001b[0m\u001b[0;34m\u001b[0m\u001b[0;34m\u001b[0m\u001b[0m\n\u001b[0m\u001b[1;32m    896\u001b[0m \u001b[0;34m\u001b[0m\u001b[0m\n\u001b[1;32m    897\u001b[0m     \u001b[0;32mdef\u001b[0m \u001b[0mclose\u001b[0m\u001b[0;34m(\u001b[0m\u001b[0mself\u001b[0m\u001b[0;34m)\u001b[0m\u001b[0;34m:\u001b[0m\u001b[0;34m\u001b[0m\u001b[0;34m\u001b[0m\u001b[0m\n",
      "\u001b[0;32m~/.local/lib/python3.8/site-packages/pandas/io/parsers.py\u001b[0m in \u001b[0;36m_make_engine\u001b[0;34m(self, engine)\u001b[0m\n\u001b[1;32m   1133\u001b[0m     \u001b[0;32mdef\u001b[0m \u001b[0m_make_engine\u001b[0m\u001b[0;34m(\u001b[0m\u001b[0mself\u001b[0m\u001b[0;34m,\u001b[0m \u001b[0mengine\u001b[0m\u001b[0;34m=\u001b[0m\u001b[0;34m\"c\"\u001b[0m\u001b[0;34m)\u001b[0m\u001b[0;34m:\u001b[0m\u001b[0;34m\u001b[0m\u001b[0;34m\u001b[0m\u001b[0m\n\u001b[1;32m   1134\u001b[0m         \u001b[0;32mif\u001b[0m \u001b[0mengine\u001b[0m \u001b[0;34m==\u001b[0m \u001b[0;34m\"c\"\u001b[0m\u001b[0;34m:\u001b[0m\u001b[0;34m\u001b[0m\u001b[0;34m\u001b[0m\u001b[0m\n\u001b[0;32m-> 1135\u001b[0;31m             \u001b[0mself\u001b[0m\u001b[0;34m.\u001b[0m\u001b[0m_engine\u001b[0m \u001b[0;34m=\u001b[0m \u001b[0mCParserWrapper\u001b[0m\u001b[0;34m(\u001b[0m\u001b[0mself\u001b[0m\u001b[0;34m.\u001b[0m\u001b[0mf\u001b[0m\u001b[0;34m,\u001b[0m \u001b[0;34m**\u001b[0m\u001b[0mself\u001b[0m\u001b[0;34m.\u001b[0m\u001b[0moptions\u001b[0m\u001b[0;34m)\u001b[0m\u001b[0;34m\u001b[0m\u001b[0;34m\u001b[0m\u001b[0m\n\u001b[0m\u001b[1;32m   1136\u001b[0m         \u001b[0;32melse\u001b[0m\u001b[0;34m:\u001b[0m\u001b[0;34m\u001b[0m\u001b[0;34m\u001b[0m\u001b[0m\n\u001b[1;32m   1137\u001b[0m             \u001b[0;32mif\u001b[0m \u001b[0mengine\u001b[0m \u001b[0;34m==\u001b[0m \u001b[0;34m\"python\"\u001b[0m\u001b[0;34m:\u001b[0m\u001b[0;34m\u001b[0m\u001b[0;34m\u001b[0m\u001b[0m\n",
      "\u001b[0;32m~/.local/lib/python3.8/site-packages/pandas/io/parsers.py\u001b[0m in \u001b[0;36m__init__\u001b[0;34m(self, src, **kwds)\u001b[0m\n\u001b[1;32m   1915\u001b[0m         \u001b[0mkwds\u001b[0m\u001b[0;34m[\u001b[0m\u001b[0;34m\"usecols\"\u001b[0m\u001b[0;34m]\u001b[0m \u001b[0;34m=\u001b[0m \u001b[0mself\u001b[0m\u001b[0;34m.\u001b[0m\u001b[0musecols\u001b[0m\u001b[0;34m\u001b[0m\u001b[0;34m\u001b[0m\u001b[0m\n\u001b[1;32m   1916\u001b[0m \u001b[0;34m\u001b[0m\u001b[0m\n\u001b[0;32m-> 1917\u001b[0;31m         \u001b[0mself\u001b[0m\u001b[0;34m.\u001b[0m\u001b[0m_reader\u001b[0m \u001b[0;34m=\u001b[0m \u001b[0mparsers\u001b[0m\u001b[0;34m.\u001b[0m\u001b[0mTextReader\u001b[0m\u001b[0;34m(\u001b[0m\u001b[0msrc\u001b[0m\u001b[0;34m,\u001b[0m \u001b[0;34m**\u001b[0m\u001b[0mkwds\u001b[0m\u001b[0;34m)\u001b[0m\u001b[0;34m\u001b[0m\u001b[0;34m\u001b[0m\u001b[0m\n\u001b[0m\u001b[1;32m   1918\u001b[0m         \u001b[0mself\u001b[0m\u001b[0;34m.\u001b[0m\u001b[0munnamed_cols\u001b[0m \u001b[0;34m=\u001b[0m \u001b[0mself\u001b[0m\u001b[0;34m.\u001b[0m\u001b[0m_reader\u001b[0m\u001b[0;34m.\u001b[0m\u001b[0munnamed_cols\u001b[0m\u001b[0;34m\u001b[0m\u001b[0;34m\u001b[0m\u001b[0m\n\u001b[1;32m   1919\u001b[0m \u001b[0;34m\u001b[0m\u001b[0m\n",
      "\u001b[0;32mpandas/_libs/parsers.pyx\u001b[0m in \u001b[0;36mpandas._libs.parsers.TextReader.__cinit__\u001b[0;34m()\u001b[0m\n",
      "\u001b[0;32mpandas/_libs/parsers.pyx\u001b[0m in \u001b[0;36mpandas._libs.parsers.TextReader._setup_parser_source\u001b[0;34m()\u001b[0m\n",
      "\u001b[0;31mFileNotFoundError\u001b[0m: [Errno 2] File b'/Users/zoranaheimuli/Desktop/Telco_Cleaned.csv' does not exist: b'/Users/zoranaheimuli/Desktop/Telco_Cleaned.csv'"
     ]
    }
   ],
   "source": [
    "#import required libraries \n",
    "import numpy as np\n",
    "import pandas as pd\n",
    "from matplotlib import pyplot as plt\n",
    "import seaborn as sns\n",
    "%matplotlib inline\n",
    "\n",
    "dp = pd.read_csv('/Users/zoranaheimuli/Desktop/Telco_Cleaned.csv')\n"
   ]
  },
  {
   "cell_type": "code",
   "execution_count": null,
   "id": "e3eedc9a",
   "metadata": {},
   "outputs": [],
   "source": [
    "#show the features (=columns) and first data entries of the data frame\n",
    "dp.head(5)"
   ]
  },
  {
   "cell_type": "code",
   "execution_count": null,
   "id": "4b6a8ffb",
   "metadata": {},
   "outputs": [],
   "source": [
    "#get summary on the data frame incl. data types, shape and memeory stroage\n",
    "dp.dtypes\n"
   ]
  },
  {
   "cell_type": "code",
   "execution_count": null,
   "id": "11ff2cc5",
   "metadata": {},
   "outputs": [],
   "source": [
    "dp.columns"
   ]
  },
  {
   "cell_type": "code",
   "execution_count": null,
   "id": "45122fc3",
   "metadata": {},
   "outputs": [],
   "source": [
    "dp.drop('Unnamed: 0',axis=1, inplace=True)"
   ]
  },
  {
   "cell_type": "code",
   "execution_count": null,
   "id": "4693b1f8",
   "metadata": {},
   "outputs": [],
   "source": [
    "dp.columns"
   ]
  },
  {
   "cell_type": "code",
   "execution_count": null,
   "id": "b1fa585c",
   "metadata": {},
   "outputs": [],
   "source": [
    "#looping thorugh the columns to get unique values per column \n",
    "for i in dp.columns:\n",
    "    print(f\"Unique {i}'s count: {dp[i].unique()}\")\n",
    "    print(f\"{dp[i].unique()}n\")"
   ]
  },
  {
   "cell_type": "code",
   "execution_count": null,
   "id": "ddd0585a",
   "metadata": {},
   "outputs": [],
   "source": [
    "#change the data type of \"TotalCharges\" and \"Tenure\" to float\n",
    "dp['Total Charges'] = pd.to_numeric(dp['Total Charges'], errors = 'coerce')\n",
    "\n",
    "def feature_to_float(feature_list, dp):\n",
    "    for i in feature_list:\n",
    "        dp[i] = dp[i].astype(float)\n",
    "    return dp\n",
    "feature_to_float(['Tenure Months'],dp)"
   ]
  },
  {
   "cell_type": "code",
   "execution_count": null,
   "id": "496fc86d",
   "metadata": {},
   "outputs": [],
   "source": [
    "dp.columns"
   ]
  },
  {
   "cell_type": "code",
   "execution_count": null,
   "id": "03750216",
   "metadata": {},
   "outputs": [],
   "source": [
    "dp.isna().sum()"
   ]
  },
  {
   "cell_type": "code",
   "execution_count": null,
   "id": "9ae2436c",
   "metadata": {},
   "outputs": [],
   "source": [
    "plt.style.use(\"fivethirtyeight\")"
   ]
  },
  {
   "cell_type": "code",
   "execution_count": null,
   "id": "31a46d17",
   "metadata": {},
   "outputs": [],
   "source": [
    "plt.figure(figsize=(5, 5))\n",
    "ax = sns.countplot(x=dp['Churn Value'], palette=\"Blues\", linewidth=1)\n",
    "plt.show()"
   ]
  },
  {
   "cell_type": "code",
   "execution_count": null,
   "id": "47dfe13e",
   "metadata": {},
   "outputs": [],
   "source": [
    "# create function to generate boxplots \n",
    "plots = {1: [111], 2: [121,122], 3: [131,132,133], 4: [221,222,223,224], 5: [231,232,233,234,235], 6: [231,232,233,234,235,236]}\n",
    "\n",
    "def boxplot(x, y, dp):\n",
    "    rows = int(str(plots[len(y)][0])[0])\n",
    "    columns = int(str(plots[len(y)][0])[1])\n",
    "    plt.figure(figsize=(7*columns,7*rows))\n",
    "    \n",
    "    for i, j in enumerate(y):\n",
    "        plt.subplot(plots[len(y)][i])\n",
    "        ax = sns.boxplot(x=x, y=j, data=dp[[x, j]], palette=\"Blues\", linewidth=1)\n",
    "        ax.set_title(j)\n",
    "        \n",
    "    return plt.show()           "
   ]
  },
  {
   "cell_type": "code",
   "execution_count": null,
   "id": "52a9c9a6",
   "metadata": {},
   "outputs": [],
   "source": [
    "boxplot(\"Churn Value\", [\"Tenure Months\", \"Monthly Charges\", \"Total Charges\"], dp)"
   ]
  },
  {
   "cell_type": "code",
   "execution_count": null,
   "id": "2ed3d6a1",
   "metadata": {},
   "outputs": [],
   "source": [
    "def countplot(x, y, dp):\n",
    "    \n",
    "    rows = int(str(plots[len(y)][0])[0])\n",
    "    columns = int(str(plots[len(y)][0])[1])\n",
    "    plt.figure(figsize=(7*columns,7*rows))\n",
    "    \n",
    "    for i, j in enumerate(y):\n",
    "        plt.subplot(plots[len(y)][i])\n",
    "        ax = sns.countplot(x=j, hue=x, data=dp, palette='Blues', alpha=1,  linewidth=0.4, edgecolor='Black')\n",
    "        ax.set_title(j)\n",
    "        \n",
    "    return plt.show()  \n",
    "    \n",
    "    "
   ]
  },
  {
   "cell_type": "code",
   "execution_count": null,
   "id": "6f95719b",
   "metadata": {},
   "outputs": [],
   "source": [
    "countplot(\"Churn Value\", ['Senior Citizen', 'Partner', 'Dependents', 'Internet Service'], dp)"
   ]
  },
  {
   "cell_type": "code",
   "execution_count": null,
   "id": "10db3651",
   "metadata": {
    "scrolled": true
   },
   "outputs": [],
   "source": [
    "numerical_features = [\"Tenure Months\", \"Monthly Charges\", \"Total Charges\"]\n",
    "dp_num = dp[numerical_features]\n",
    "dp_num.describe()\n",
    "\n",
    "Q1 = dp_num.quantile(0.25)\n",
    "Q3 = dp_num.quantile(0.75)\n",
    "IQR = Q3 - Q1\n",
    "IQR\n",
    "((dp_num < (Q1 - 1.5 * IQR)) | (dp_num > (Q3 + 1.5 * IQR))).any()"
   ]
  },
  {
   "cell_type": "code",
   "execution_count": null,
   "id": "c728d3ea",
   "metadata": {},
   "outputs": [],
   "source": [
    "dp = dp.dropna()"
   ]
  },
  {
   "cell_type": "code",
   "execution_count": null,
   "id": "63b55144",
   "metadata": {},
   "outputs": [],
   "source": [
    "dp = dp.drop(columns='CustomerID')"
   ]
  },
  {
   "cell_type": "code",
   "execution_count": null,
   "id": "1a598e29",
   "metadata": {},
   "outputs": [],
   "source": [
    "dp['Number_AdditionalServices'] = (dp[['Online Security', 'Device Protection', 'Streaming Movies', 'Tech Support', 'Streaming TV', 'Online Backup']] == 'Yes').sum(axis=1)"
   ]
  },
  {
   "cell_type": "code",
   "execution_count": null,
   "id": "374fa1e8",
   "metadata": {},
   "outputs": [],
   "source": [
    "countplot('Churn Value', ['Number_AdditionalServices'], dp)"
   ]
  },
  {
   "cell_type": "code",
   "execution_count": null,
   "id": "7817c98b",
   "metadata": {},
   "outputs": [],
   "source": [
    "#label encoding\n",
    "features_le = ['Gender', 'Partner','Dependents', 'Churn Value', 'Phone Service', 'Paperless Billing' ]\n",
    "\n",
    "def label_encoding(features, dp):\n",
    "    for i in features:\n",
    "        dp[i] = dp[i].map({'Yes': 1, 'No': 0})\n",
    "    return\n",
    "\n",
    "label_encoding(['Partner', 'Dependents', 'Churn Value', 'Phone Service', 'Paperless Billing'], dp)\n",
    "\n",
    "dp['Gender'] = dp['Gender'].map({'Female': 1, 'Male': 0})\n"
   ]
  },
  {
   "cell_type": "code",
   "execution_count": null,
   "id": "29158f67",
   "metadata": {},
   "outputs": [],
   "source": [
    "#encoding or identifies columns\n",
    "features_ohe = ['Multiple Lines', 'Internet Service', 'Online Security', 'Online Backup', 'Device Protection', 'Tech Support',\n",
    "               'Streaming TV', 'Streaming Movies', 'Contract', 'Payment Method', 'Number_AdditionalServices']\n",
    "\n",
    "dp = pd.get_dummies(dp, columns=features_ohe)"
   ]
  },
  {
   "cell_type": "code",
   "execution_count": null,
   "id": "3c180e77",
   "metadata": {},
   "outputs": [],
   "source": [
    "#min-max scaling\n",
    "from sklear.preprocessing import MinMaxScaler\n",
    "\n",
    "features_mms = ['Tenure Months', 'Monthly Charges', 'Total Charges']\n",
    "dp_features_mms = pd.DataFrame(dp, colunmns = features_mms)\n",
    "dp_remaining_features = dp.drop(columns = features_mms)\n",
    "\n",
    "mms = MinMaxScaler()\n",
    "rescaled_features = mms.fit_transform(dp_features_mms)\n",
    "\n",
    "dp_rescaled features = pd.DataFrame(rescaled_features, columns = features_mms, index = dp_remaining_features.index)\n",
    "\n",
    "dp = pd.concat([dp_remaining_features, dp_rescaled_features], axis = 1)"
   ]
  },
  {
   "cell_type": "code",
   "execution_count": null,
   "id": "c746ef24",
   "metadata": {},
   "outputs": [],
   "source": [
    "#display correlation plot for correlation of churn w/ each feature\n",
    "plt.figure(figsize=(16,10))\n",
    "dp.corr()['Churn Value'].sort_values(ascending=True).plot('kind'=='bar', figsize=(20,5))"
   ]
  },
  {
   "cell_type": "code",
   "execution_count": null,
   "id": "68f79db1",
   "metadata": {},
   "outputs": [],
   "source": [
    "#re-check for the matplotlin.axes._subplots/graph\n"
   ]
  },
  {
   "cell_type": "code",
   "execution_count": null,
   "id": "10239140",
   "metadata": {},
   "outputs": [],
   "source": [
    "#apply sklearn's splitter function train_test_split\n",
    "from sklearn.model_selection import train_test_split\n",
    "\n",
    "X1 = dp.drop('Churn Value', axis=1)\n",
    "X = X1.values\n",
    "y = dp['Churn Value'].values\n",
    "\n",
    "x_train, x_test, y_train, y_test = train_test_split(X, y, test_size=0.2, random_state=42)"
   ]
  },
  {
   "cell_type": "code",
   "execution_count": null,
   "id": "a77cfe93",
   "metadata": {},
   "outputs": [],
   "source": [
    "from sklearn.metrics import accuracy_score, confusion_matrix, classification_report, roc_curve\n",
    "from sklearn.metrics import precision_recall_curve, auc, f1_score, plot_confusion_matrix, precision_score,recall_score"
   ]
  },
  {
   "cell_type": "code",
   "execution_count": null,
   "id": "6001842f",
   "metadata": {},
   "outputs": [],
   "source": [
    "#define function that plots feature weighs for a classifier\n",
    "def feature_weights(X_dp, classifier, classifier_name):\n",
    "    weights = pd Series(classifier.coef_[0], index-X_dp.columns.values).sort_values(ascending=False)\n",
    "    \n",
    "        top_weights_selected = weights[:10]\n",
    "        plt.figure(figsize=(7,6))\n",
    "        plt.tick_params(labelsize=10)\n",
    "        plt.title(f'{classifier_name} - Top 10 Features')\n",
    "        top_weights_selected.plt(\"kind\"==\"bar\")\n",
    "        \n",
    "        bottom_weights_selected = weights[-10:]\n",
    "        plt.figure(figsize=(7,6))\n",
    "        plt.tick_params(labelsize=10)\n",
    "        plt.title(f'{classifier_name} - Bottom 10 Features')\n",
    "        bottom_weights_selected.plot(\"kind\"==\"bar\")\n",
    "        \n",
    "        return print(\"\")"
   ]
  },
  {
   "cell_type": "code",
   "execution_count": null,
   "id": "c5321233",
   "metadata": {},
   "outputs": [],
   "source": []
  }
 ],
 "metadata": {
  "kernelspec": {
   "display_name": "Python 3",
   "language": "python",
   "name": "python3"
  },
  "language_info": {
   "codemirror_mode": {
    "name": "ipython",
    "version": 3
   },
   "file_extension": ".py",
   "mimetype": "text/x-python",
   "name": "python",
   "nbconvert_exporter": "python",
   "pygments_lexer": "ipython3",
   "version": "3.8.8"
  }
 },
 "nbformat": 4,
 "nbformat_minor": 5
}
